{
 "cells": [
  {
   "cell_type": "code",
   "execution_count": 9,
   "metadata": {
    "collapsed": false,
    "scrolled": true
   },
   "outputs": [
    {
     "name": "stdout",
     "output_type": "stream",
     "text": [
      "Enter query -> 1. count 'url' for getting count\n",
      "2. result 'url' for getting results\n",
      "> quit\n",
      "Quitting.\n"
     ]
    },
    {
     "ename": "SystemExit",
     "evalue": "",
     "output_type": "error",
     "traceback": [
      "An exception has occurred, use %tb to see the full traceback.\n",
      "\u001b[0;31mSystemExit\u001b[0m\n"
     ]
    }
   ],
   "source": [
    "from urllib2 import urlopen\n",
    "from bs4 import BeautifulSoup\n",
    "from cmd import Cmd\n",
    "import re\n",
    "\n",
    "\n",
    "#returns number of results in the page\n",
    "def getCount(url):\n",
    "    page = urlopen(url)\n",
    "    soup = BeautifulSoup(page,\"lxml\")\n",
    "    divs = soup.select(\"div h2 a.productName\")\n",
    "    count = len(divs)\n",
    "    if (count>0):\n",
    "        return len(divs)\n",
    "    else:\n",
    "        return 'No results found'\n",
    "\n",
    "#prints the results in the page\n",
    "def getResults(url):\n",
    "    page = urlopen(url)\n",
    "    soup = BeautifulSoup(page,\"lxml\")\n",
    "    divs = soup.select(\"div h2 a.productName\")\n",
    "    for div in divs:\n",
    "        if (div):\n",
    "            title = div.get('title')\n",
    "            if (title):\n",
    "                print div.get('title')\n",
    "            else:                \n",
    "                print div.find('span').get('title')\n",
    "\n",
    "class MyPrompt(Cmd):\n",
    "\n",
    "    def do_count(self,args):\n",
    "        \"\"\"gets count of results of the page\"\"\"\n",
    "        if (len(args) == 0):\n",
    "            print \"please pass a url\"\n",
    "        keyword = re.search(r\"(?:http\\:\\/\\/www\\.shopping\\.com\\/products\\?KW=)(.*)\",args)\n",
    "        if (keyword):\n",
    "            print getCount(args)\n",
    "        else:\n",
    "            print \"invalid url\"\n",
    "            \n",
    "    def do_result(self,args):\n",
    "        \"\"\"prints results of the page\"\"\"\n",
    "        if (len(args) == 0):\n",
    "            print \"please pass a url\"\n",
    "        keyword = re.search(r\"(?:http:\\/\\/www\\.shopping\\.com\\/products\\~PG\\-)(\\d*)(?:\\?KW=)(.*)(?:\\\"*)\",args)\n",
    "        if (keyword):\n",
    "            getResults(args)\n",
    "        else:\n",
    "            print \"invalid url\"\n",
    "        \n",
    "    def do_quit(self, args):\n",
    "        \"\"\"Quits the program.\"\"\"\n",
    "        print \"Quitting.\"\n",
    "        raise SystemExit\n",
    "\n",
    "\n",
    "if __name__ == '__main__':\n",
    "    prompt = MyPrompt()\n",
    "    prompt.prompt = '> '\n",
    "    prompt.cmdloop('Enter query -> 1. count \\'url\\' for getting count\\n2. result \\'url\\' for getting results')"
   ]
  }
 ],
 "metadata": {
  "anaconda-cloud": {},
  "kernelspec": {
   "display_name": "Python [conda root]",
   "language": "python",
   "name": "conda-root-py"
  },
  "language_info": {
   "codemirror_mode": {
    "name": "ipython",
    "version": 2
   },
   "file_extension": ".py",
   "mimetype": "text/x-python",
   "name": "python",
   "nbconvert_exporter": "python",
   "pygments_lexer": "ipython2",
   "version": "2.7.12"
  }
 },
 "nbformat": 4,
 "nbformat_minor": 1
}
