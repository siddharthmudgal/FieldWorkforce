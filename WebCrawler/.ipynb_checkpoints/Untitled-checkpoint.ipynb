{
 "cells": [
  {
   "cell_type": "code",
   "execution_count": null,
   "metadata": {
    "collapsed": true
   },
   "outputs": [],
   "source": [
    "from cmd import Cmd\n",
    "\n",
    "class MyPrompt(Cmd):\n",
    "\n",
    "    def do_hello(self, args):\n",
    "        \"\"\"Says hello. If you provide a name, it will greet you with it.\"\"\"\n",
    "        if len(args) == 0:\n",
    "            name = 'stranger'\n",
    "        else:\n",
    "            name = args\n",
    "        print \"Hello, %s\" % name\n",
    "\n",
    "    def do_quit(self, args):\n",
    "        \"\"\"Quits the program.\"\"\"\n",
    "        print \"Quitting.\"\n",
    "        raise SystemExit\n",
    "\n",
    "\n",
    "if __name__ == '__main__':\n",
    "    prompt = MyPrompt()\n",
    "    prompt.prompt = '> '\n",
    "    prompt.cmdloop('Starting prompt...')"
   ]
  }
 ],
 "metadata": {
  "kernelspec": {
   "display_name": "Python [conda root]",
   "language": "python",
   "name": "conda-root-py"
  },
  "language_info": {
   "codemirror_mode": {
    "name": "ipython",
    "version": 2
   },
   "file_extension": ".py",
   "mimetype": "text/x-python",
   "name": "python",
   "nbconvert_exporter": "python",
   "pygments_lexer": "ipython2",
   "version": "2.7.12"
  }
 },
 "nbformat": 4,
 "nbformat_minor": 1
}
